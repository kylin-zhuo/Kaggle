{
 "cells": [
  {
   "cell_type": "code",
   "execution_count": 6,
   "metadata": {
    "collapsed": false
   },
   "outputs": [],
   "source": [
    "# Import packages\n",
    "import warnings\n",
    "warnings.filterwarnings(\"ignore\")\n",
    "import numpy as np\n",
    "import tensorflow as tf\n",
    "import pandas as pd\n",
    "\n",
    "import matplotlib.pyplot as plt\n",
    "%matplotlib inline\n",
    "from cnn_utils import *\n",
    "import time"
   ]
  },
  {
   "cell_type": "code",
   "execution_count": 7,
   "metadata": {
    "collapsed": false
   },
   "outputs": [],
   "source": [
    "X_train, Y_train, X_test, Y_test = load_data()"
   ]
  },
  {
   "cell_type": "code",
   "execution_count": 20,
   "metadata": {
    "collapsed": true
   },
   "outputs": [],
   "source": [
    "X_new = load_predict_data()"
   ]
  },
  {
   "cell_type": "code",
   "execution_count": null,
   "metadata": {
    "collapsed": true
   },
   "outputs": [],
   "source": []
  },
  {
   "cell_type": "code",
   "execution_count": 147,
   "metadata": {
    "collapsed": false
   },
   "outputs": [
    {
     "data": {
      "text/plain": [
       "Text(0.5,1,'112-th sample')"
      ]
     },
     "execution_count": 147,
     "metadata": {},
     "output_type": "execute_result"
    },
    {
     "data": {
      "image/png": "[encoded data removed]",
      "text/plain": [
       "<matplotlib.figure.Figure at 0x12987cbe0>"
      ]
     },
     "metadata": {},
     "output_type": "display_data"
    }
   ],
   "source": [
    "i += 1\n",
    "plt.imshow(X_new[i][:,:,0])\n",
    "plt.title(str(i+1) + \"-th sample\")"
   ]
  },
  {
   "cell_type": "code",
   "execution_count": 512,
   "metadata": {
    "collapsed": false
   },
   "outputs": [],
   "source": [
    "i = 2150"
   ]
  },
  {
   "cell_type": "code",
   "execution_count": 575,
   "metadata": {
    "collapsed": false
   },
   "outputs": [
    {
     "data": {
      "text/plain": [
       "Text(0.5,1,'Pic 2534')"
      ]
     },
     "execution_count": 575,
     "metadata": {},
     "output_type": "execute_result"
    },
    {
     "data": {
      "image/png": "[encoded data removed]",
      "text/plain": [
       "<matplotlib.figure.Figure at 0x1754b3390>"
      ]
     },
     "metadata": {},
     "output_type": "display_data"
    }
   ],
   "source": [
    "i += 6\n",
    "fig = plt.figure()\n",
    "a = fig.add_subplot(2, 3, 1); plt.imshow(X_new[i][:,:,0])\n",
    "a.set_title(\"Pic \" + str(i+1))\n",
    "a = fig.add_subplot(2, 3, 2); plt.imshow(X_new[i+1][:,:,0])\n",
    "a.set_title(\"Pic \" + str(i+2))\n",
    "a = fig.add_subplot(2, 3, 3); plt.imshow(X_new[i+2][:,:,0])\n",
    "a.set_title(\"Pic \" + str(i+3))\n",
    "a = fig.add_subplot(2, 3, 4); plt.imshow(X_new[i+3][:,:,0])\n",
    "a.set_title(\"Pic \" + str(i+4))\n",
    "a = fig.add_subplot(2, 3, 5); plt.imshow(X_new[i+4][:,:,0])\n",
    "a.set_title(\"Pic \" + str(i+5))\n",
    "a = fig.add_subplot(2, 3, 6); plt.imshow(X_new[i+5][:,:,0])\n",
    "a.set_title(\"Pic \" + str(i+6))"
   ]
  },
  {
   "cell_type": "code",
   "execution_count": null,
   "metadata": {
    "collapsed": true
   },
   "outputs": [],
   "source": []
  },
  {
   "cell_type": "code",
   "execution_count": null,
   "metadata": {
    "collapsed": true
   },
   "outputs": [],
   "source": []
  },
  {
   "cell_type": "code",
   "execution_count": null,
   "metadata": {
    "collapsed": true
   },
   "outputs": [],
   "source": []
  },
  {
   "cell_type": "code",
   "execution_count": null,
   "metadata": {
    "collapsed": true
   },
   "outputs": [],
   "source": []
  },
  {
   "cell_type": "code",
   "execution_count": null,
   "metadata": {
    "collapsed": true
   },
   "outputs": [],
   "source": []
  },
  {
   "cell_type": "code",
   "execution_count": null,
   "metadata": {
    "collapsed": true
   },
   "outputs": [],
   "source": []
  },
  {
   "cell_type": "code",
   "execution_count": 3,
   "metadata": {
    "collapsed": false
   },
   "outputs": [],
   "source": [
    "def model(X_train, Y_train, X_test, Y_test, learning_rate = 0.009,\n",
    "          max_num_epochs = 100, minibatch_size = 64, print_cost = True):\n",
    "    \"\"\"\n",
    "    Implements a three-layer ConvNet in Tensorflow:\n",
    "    CONV2D -> RELU -> MAXPOOL -> CONV2D -> RELU -> MAXPOOL -> FLATTEN -> FULLYCONNECTED\n",
    "    \"\"\"\n",
    "\n",
    "    tf.set_random_seed(1)\n",
    "    seed = 3 \n",
    "    (m, n_H0, n_W0, n_C0) = X_train.shape             \n",
    "    n_y = Y_train.shape[1]                            \n",
    "    costs = [] \n",
    "\n",
    "    X, Y = create_placeholders(n_H0, n_W0, n_C0, n_y)\n",
    "    W1, W2, W3 = initialize_parameters()\n",
    "    \n",
    "    Z = forward_propagation(X, W1, W2, W3)\n",
    "    cost = compute_cost(Z, Y)\n",
    "    optimizer = tf.train.AdamOptimizer(learning_rate=learning_rate).minimize(cost)\n",
    "\n",
    "    init = tf.global_variables_initializer()\n",
    "    saver = tf.train.Saver()\n",
    "    \n",
    "    mincost = float('inf')\n",
    "    ep = 0\n",
    "    \n",
    "    with tf.Session() as sess:\n",
    "    \n",
    "        sess.run(init)\n",
    "        for epoch in range(max_num_epochs):\n",
    "            \n",
    "            ep += 1\n",
    "            \n",
    "            minibatch_cost = 0.\n",
    "            num_minibatches = int(m / minibatch_size) # number of minibatches of size minibatch_size in the train set\n",
    "            seed = seed + 1\n",
    "            minibatches = random_mini_batches(X_train, Y_train, minibatch_size, seed)\n",
    "\n",
    "            for minibatch in minibatches:\n",
    "                (minibatch_X, minibatch_Y) = minibatch\n",
    "                _ , temp_cost = sess.run([optimizer, cost], feed_dict={X:minibatch_X, Y:minibatch_Y})\n",
    "                minibatch_cost += temp_cost / num_minibatches     \n",
    "                \n",
    "            if print_cost and epoch % 5 == 0: print (\"Cost after epoch %i: %f\" % (epoch, minibatch_cost))\n",
    "            if print_cost and epoch % 5 == 0: costs.append(minibatch_cost)\n",
    "                    \n",
    "            if minibatch_cost < mincost:\n",
    "                ep = 0\n",
    "                mincost = minibatch_cost\n",
    "                save_path = saver.save(sess, CKPT_PATH)\n",
    "                print(\"Model saved in file: %s\" % save_path)\n",
    "            \n",
    "            if ep > 10:\n",
    "                break\n",
    "                \n",
    "        plt.plot(np.squeeze(costs))\n",
    "        plt.ylabel('cost')\n",
    "        plt.xlabel('iterations (per tens)')\n",
    "        plt.title(\"Learning rate =\" + str(learning_rate))\n",
    "        plt.show()\n",
    "\n",
    "        predict_op = tf.argmax(Z, 1)\n",
    "        correct_prediction = tf.equal(predict_op, tf.argmax(Y, 1))\n",
    "        accuracy = tf.reduce_mean(tf.cast(correct_prediction, \"float\"))\n",
    "        train_accuracy = accuracy.eval({X: X_train, Y: Y_train})\n",
    "        test_accuracy = accuracy.eval({X: X_test, Y: Y_test})\n",
    "\n",
    "        print(\"Train Accuracy:\", train_accuracy)\n",
    "        print(\"Test Accuracy:\", test_accuracy)\n",
    "        "
   ]
  },
  {
   "cell_type": "code",
   "execution_count": 4,
   "metadata": {
    "collapsed": false
   },
   "outputs": [
    {
     "name": "stdout",
     "output_type": "stream",
     "text": [
      "Cost after epoch 0: 0.189428\n",
      "Model saved in file: ./cnn/cnn.ckpt\n",
      "Model saved in file: ./cnn/cnn.ckpt\n",
      "Model saved in file: ./cnn/cnn.ckpt\n",
      "Model saved in file: ./cnn/cnn.ckpt\n",
      "Model saved in file: ./cnn/cnn.ckpt\n",
      "Cost after epoch 5: 0.067748\n",
      "Model saved in file: ./cnn/cnn.ckpt\n",
      "Model saved in file: ./cnn/cnn.ckpt\n",
      "Cost after epoch 10: 0.070428\n",
      "Model saved in file: ./cnn/cnn.ckpt\n",
      "Cost after epoch 15: 0.057889\n",
      "Model saved in file: ./cnn/cnn.ckpt\n",
      "Cost after epoch 20: 0.048732\n",
      "Cost after epoch 25: 0.068012\n"
     ]
    },
    {
     "data": {
      "image/png": "[encoded data removed]",
      "text/plain": [
       "<matplotlib.figure.Figure at 0x11f84c828>"
      ]
     },
     "metadata": {},
     "output_type": "display_data"
    },
    {
     "name": "stdout",
     "output_type": "stream",
     "text": [
      "Train Accuracy: 0.983027\n",
      "Test Accuracy: 0.973018\n",
      "Run time: 609.2323951721191 s\n"
     ]
    }
   ],
   "source": [
    "start = time.time()\n",
    "model(X_train, Y_train, X_test, Y_test, max_num_epochs = 100, minibatch_size = 64)\n",
    "print(\"Run time: %s s\" % (time.time() - start))"
   ]
  }
 ],
 "metadata": {
  "kernelspec": {
   "display_name": "Python 3",
   "language": "python",
   "name": "python3"
  },
  "language_info": {
   "codemirror_mode": {
    "name": "ipython",
    "version": 3
   },
   "file_extension": ".py",
   "mimetype": "text/x-python",
   "name": "python",
   "nbconvert_exporter": "python",
   "pygments_lexer": "ipython3",
   "version": "3.6.2"
  }
 },
 "nbformat": 4,
 "nbformat_minor": 2
}
